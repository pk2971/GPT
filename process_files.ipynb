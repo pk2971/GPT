{
  "nbformat": 4,
  "nbformat_minor": 0,
  "metadata": {
    "colab": {
      "provenance": [],
      "gpuType": "T4",
      "mount_file_id": "1jX4TED_sqF_tFkhuH5cADLFGv-2neji2",
      "authorship_tag": "ABX9TyNaXHvRPBrACd98K+018rud",
      "include_colab_link": true
    },
    "kernelspec": {
      "name": "python3",
      "display_name": "Python 3"
    },
    "language_info": {
      "name": "python"
    }
  },
  "cells": [
    {
      "cell_type": "markdown",
      "metadata": {
        "id": "view-in-github",
        "colab_type": "text"
      },
      "source": [
        "<a href=\"https://colab.research.google.com/github/pk2971/GPT/blob/main/process_files.ipynb\" target=\"_parent\"><img src=\"https://colab.research.google.com/assets/colab-badge.svg\" alt=\"Open In Colab\"/></a>"
      ]
    },
    {
      "cell_type": "markdown",
      "source": [
        "**CODE TO CONVERT XML FILES TO PDF FILES**\n",
        "\n",
        "\n",
        "\n"
      ],
      "metadata": {
        "id": "t1ztl86i8Y6V"
      }
    },
    {
      "cell_type": "code",
      "source": [
        "import os\n",
        "import pdfkit\n",
        "import zipfile\n",
        "from xml.etree import ElementTree as ET"
      ],
      "metadata": {
        "id": "P7Km5heS8ZNp"
      },
      "execution_count": null,
      "outputs": []
    },
    {
      "cell_type": "code",
      "source": [
        "# Unzip files\n",
        "zip_path = \"/content/drive/MyDrive/debates.zip\"\n",
        "extract_path = \"/content/extracted_files\"\n",
        "os.makedirs(extract_path, exist_ok=True)\n",
        "with zipfile.ZipFile(zip_path, 'r') as zip_ref:\n",
        "    zip_ref.extractall(extract_path)"
      ],
      "metadata": {
        "id": "yJzybxCg8KEY"
      },
      "execution_count": null,
      "outputs": []
    },
    {
      "cell_type": "code",
      "source": [
        "# Path to folder with XML files\n",
        "input_folder = '/content/extracted_files/debates'\n",
        "output_folder = '/content/debates_pdfs'\n",
        "zip_file_path = '/content/debates_pdf.zip'\n",
        "# Create output folder for PDFs\n",
        "os.makedirs(output_folder, exist_ok=True)"
      ],
      "metadata": {
        "id": "9Kq3wYsuOkBX"
      },
      "execution_count": 19,
      "outputs": []
    },
    {
      "cell_type": "code",
      "source": [
        "# Function to convert XML to a readable format\n",
        "def xml_to_readable_content(xml_file):\n",
        "    tree = ET.parse(xml_file)\n",
        "    root = tree.getroot()\n",
        "    # Extract readable content from the XML (example logic)\n",
        "    content = []\n",
        "    for elem in root.iter():\n",
        "        if elem.text:\n",
        "            content.append(elem.text.strip())\n",
        "    return \"\\n\".join(content)\n"
      ],
      "metadata": {
        "id": "RQq-Ua6jOzKV"
      },
      "execution_count": 20,
      "outputs": []
    },
    {
      "cell_type": "code",
      "source": [
        "# Convert XML files to PDF\n",
        "for file_name in os.listdir(input_folder):\n",
        "    if file_name.endswith('.xml'):\n",
        "        xml_path = os.path.join(input_folder, file_name)\n",
        "        pdf_name = f\"{os.path.splitext(file_name)[0]}.pdf\"\n",
        "        pdf_path = os.path.join(output_folder, pdf_name)\n",
        "\n",
        "        # Extract readable content and save as PDF\n",
        "        readable_content = xml_to_readable_content(xml_path)\n",
        "        pdfkit.from_string(readable_content, pdf_path)"
      ],
      "metadata": {
        "id": "KExkKGobO0JA"
      },
      "execution_count": 23,
      "outputs": []
    },
    {
      "cell_type": "code",
      "source": [
        "# Create a ZIP file of PDFs\n",
        "with zipfile.ZipFile(zip_file_path, 'w') as zipf:\n",
        "    for file_name in os.listdir(output_folder):\n",
        "        file_path = os.path.join(output_folder, file_name)\n",
        "        zipf.write(file_path, arcname=file_name)\n",
        "\n",
        "print(f\"PDFs are zipped at: {zip_file_path}\")"
      ],
      "metadata": {
        "colab": {
          "base_uri": "https://localhost:8080/"
        },
        "id": "SkhyQoCcO264",
        "outputId": "6b3da1a7-eb69-41ae-8acd-c6d5d99d50e7"
      },
      "execution_count": 24,
      "outputs": [
        {
          "output_type": "stream",
          "name": "stdout",
          "text": [
            "PDFs are zipped at: /content/debates_pdf.zip\n"
          ]
        }
      ]
    },
    {
      "cell_type": "code",
      "source": [
        "from google.colab import files\n",
        "files.download('/content/debates_pdf.zip')"
      ],
      "metadata": {
        "colab": {
          "base_uri": "https://localhost:8080/",
          "height": 34
        },
        "id": "UrnEuzz9dVNG",
        "outputId": "5cfe33b9-1305-41c6-e146-195455cacb56"
      },
      "execution_count": 25,
      "outputs": [
        {
          "output_type": "display_data",
          "data": {
            "text/plain": [
              "<IPython.core.display.Javascript object>"
            ],
            "application/javascript": [
              "\n",
              "    async function download(id, filename, size) {\n",
              "      if (!google.colab.kernel.accessAllowed) {\n",
              "        return;\n",
              "      }\n",
              "      const div = document.createElement('div');\n",
              "      const label = document.createElement('label');\n",
              "      label.textContent = `Downloading \"${filename}\": `;\n",
              "      div.appendChild(label);\n",
              "      const progress = document.createElement('progress');\n",
              "      progress.max = size;\n",
              "      div.appendChild(progress);\n",
              "      document.body.appendChild(div);\n",
              "\n",
              "      const buffers = [];\n",
              "      let downloaded = 0;\n",
              "\n",
              "      const channel = await google.colab.kernel.comms.open(id);\n",
              "      // Send a message to notify the kernel that we're ready.\n",
              "      channel.send({})\n",
              "\n",
              "      for await (const message of channel.messages) {\n",
              "        // Send a message to notify the kernel that we're ready.\n",
              "        channel.send({})\n",
              "        if (message.buffers) {\n",
              "          for (const buffer of message.buffers) {\n",
              "            buffers.push(buffer);\n",
              "            downloaded += buffer.byteLength;\n",
              "            progress.value = downloaded;\n",
              "          }\n",
              "        }\n",
              "      }\n",
              "      const blob = new Blob(buffers, {type: 'application/binary'});\n",
              "      const a = document.createElement('a');\n",
              "      a.href = window.URL.createObjectURL(blob);\n",
              "      a.download = filename;\n",
              "      div.appendChild(a);\n",
              "      a.click();\n",
              "      div.remove();\n",
              "    }\n",
              "  "
            ]
          },
          "metadata": {}
        },
        {
          "output_type": "display_data",
          "data": {
            "text/plain": [
              "<IPython.core.display.Javascript object>"
            ],
            "application/javascript": [
              "download(\"download_49ec3d54-9bf3-4003-8f10-c41635d96848\", \"debates_pdf.zip\", 3961656187)"
            ]
          },
          "metadata": {}
        }
      ]
    }
  ]
}